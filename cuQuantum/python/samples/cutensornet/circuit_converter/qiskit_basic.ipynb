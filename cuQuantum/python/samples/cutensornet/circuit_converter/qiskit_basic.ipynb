{
 "cells": [
  {
   "cell_type": "markdown",
   "id": "64eb8a09-391c-4b85-a5bc-653ad3a13bd7",
   "metadata": {},
   "source": [
    "Copyright (c) 2021-2023, NVIDIA CORPORATION & AFFILIATES\n",
    "\n",
    "SPDX-License-Identifier: BSD-3-Clause"
   ]
  },
  {
   "cell_type": "markdown",
   "id": "2347cd43-7a9b-4de8-99c0-6f5a1e5dcbc3",
   "metadata": {},
   "source": [
    "In this notebook, we use a simple example to show how to use `cuquantum.CircuitToEinsum` \n",
    "to take a `qiskit.QuantumCircuit` instance and run basic quantum circuit simulation using cuTensorNet."
   ]
  },
  {
   "cell_type": "code",
   "execution_count": 1,
   "id": "76070333-860c-4ba8-852a-bfc0834cd28d",
   "metadata": {},
   "outputs": [],
   "source": [
    "import itertools\n",
    "\n",
    "import cupy as cp\n",
    "import numpy as np\n",
    "import qiskit\n",
    "from qiskit.circuit.random import random_circuit\n",
    "\n",
    "from cuquantum import contract\n",
    "from cuquantum import CircuitToEinsum"
   ]
  },
  {
   "cell_type": "markdown",
   "id": "1624c29e-8e0b-461c-ae4d-5a3eb4755209",
   "metadata": {},
   "source": [
    "## Generate a random quantum circuit\n",
    "\n",
    "The generated `circuit` object is of type `qiskit.QuantumCircuit`."
   ]
  },
  {
   "cell_type": "code",
   "execution_count": 2,
   "id": "4b008305-2ad9-4ab0-b090-d2a40a7717c9",
   "metadata": {},
   "outputs": [
    {
     "data": {
      "image/png": "[encoded data removed]",
      "text/plain": [
       "<Figure size 1170.2x445.48 with 1 Axes>"
      ]
     },
     "execution_count": 2,
     "metadata": {},
     "output_type": "execute_result"
    }
   ],
   "source": [
    "num_qubits = 7\n",
    "depth = 6\n",
    "\n",
    "circuit = random_circuit(num_qubits, depth, seed=3)\n",
    "circuit.draw(output='mpl')"
   ]
  },
  {
   "cell_type": "markdown",
   "id": "4380ffc0-8d75-4af3-9ef4-86a123414ae7",
   "metadata": {},
   "source": [
    "## Construct the converter object targeting double precision\n",
    "\n",
    "In this example, we generate the tensor operands as CuPy arrays (by setting `backend=cupy`)."
   ]
  },
  {
   "cell_type": "code",
   "execution_count": 3,
   "id": "9a4a0c47-d7bc-4f88-9244-4991ee9df52d",
   "metadata": {},
   "outputs": [],
   "source": [
    "myconverter = CircuitToEinsum(circuit, dtype='complex128', backend=cp)"
   ]
  },
  {
   "cell_type": "markdown",
   "id": "42b64dd2-b2ec-4337-a8ab-2cb886059417",
   "metadata": {},
   "source": [
    "### compute state vector $| \\psi\\rangle$\n",
    "\n",
    "Different from the notation in `qiskit`, the indices of the output tensor is consistent with `qiskit.QuantumCircuit.qubits`"
   ]
  },
  {
   "cell_type": "code",
   "execution_count": 4,
   "id": "44997225-c070-4472-9571-57112536be4e",
   "metadata": {},
   "outputs": [
    {
     "name": "stdout",
     "output_type": "stream",
     "text": [
      "wavefunction coefficient shape: (2, 2, 2, 2, 2, 2, 2)\n",
      "<class 'cupy._core.core.ndarray'>\n",
      "<class 'cupy._core.core.ndarray'>\n",
      "is sv in agreement? True\n"
     ]
    }
   ],
   "source": [
    "expression, operands = myconverter.state_vector()\n",
    "sv = contract(expression, *operands)\n",
    "print(f'wavefunction coefficient shape: {sv.shape}')\n",
    "print(type(operands[0]))\n",
    "print(type(sv))\n",
    "\n",
    "# check if the computed statevector is correct\n",
    "simulator = qiskit.Aer.get_backend('aer_simulator_statevector')\n",
    "circuit.save_statevector()\n",
    "circ = qiskit.transpile(circuit, simulator)\n",
    "result = simulator.run(circ).result()\n",
    "sv_qiskit = np.asarray(result.get_statevector()).reshape([2]*num_qubits)\n",
    "sv_qiskit = sv_qiskit.transpose(range(num_qubits-1, -1, -1))\n",
    "print(f\"is sv in agreement?\", cp.allclose(sv, sv_qiskit))"
   ]
  },
  {
   "cell_type": "markdown",
   "id": "9b1ea5e2-bcef-4878-8647-5599a2cceacf",
   "metadata": {},
   "source": [
    "### calculate bitstring amplitude $\\langle b| \\psi\\rangle$"
   ]
  },
  {
   "cell_type": "code",
   "execution_count": 5,
   "id": "c11e5802-5657-4967-a9f2-c6afd4a6784a",
   "metadata": {},
   "outputs": [
    {
     "name": "stdout",
     "output_type": "stream",
     "text": [
      "einsum expression:\n",
      "a,b,c,d,e,f,g,ha,ijed,kf,lmkh,nopgcb,qrpj,sq,tr,uvwion,xyum,zv,ABsz,CDxt,EFDA,GHlw,IJGy,KLIC,MNEL,OH,PQROJB,SQ,TURF,VWKP,S,U,T,M,N,V,W-> \n",
      "\n",
      "for bitstring 0000000, amplitude: (-0.4516204880327095+0.2871796749721902j), probability: 0.2864332309280355\n",
      "\n",
      "difference from state vector 0.0\n"
     ]
    }
   ],
   "source": [
    "bitstring = '0000000'\n",
    "\n",
    "expression, operands = myconverter.amplitude(bitstring)\n",
    "print(f'einsum expression:\\n{expression} \\n')\n",
    "\n",
    "amplitude = contract(expression, *operands)\n",
    "probability = abs(amplitude) ** 2\n",
    "print(f'for bitstring {bitstring}, amplitude: {amplitude}, probability: {probability}\\n')\n",
    "\n",
    "amplitude_from_sv = sv[0,0,0,0,0,0,0]\n",
    "amp_diff = abs(amplitude-amplitude_from_sv)\n",
    "print(f'difference from state vector {amp_diff}')"
   ]
  },
  {
   "cell_type": "markdown",
   "id": "6fa82949-43e1-4d55-8af5-554aa5c9020e",
   "metadata": {},
   "source": [
    "### calculate batch of bistring amplitudes\n",
    "\n",
    "In this example, we calculate a batch of bistring amplitudes $\\langle 00000ij|\\psi\\rangle$ where the first 5 qubits are fixed at state $00000$ and the last two qubit states are batched. This is equivalent to computing a slice of the full state vector."
   ]
  },
  {
   "cell_type": "code",
   "execution_count": 6,
   "id": "180793ae-8cbd-44ba-ac3b-19d4679989cb",
   "metadata": {},
   "outputs": [
    {
     "name": "stdout",
     "output_type": "stream",
     "text": [
      "for bitstring 0000000, amplitude: -0.4516+0.2872j, difference from state vector: 0.0000\n",
      "for bitstring 0000001, amplitude: 0.0000+0.0000j, difference from state vector: 0.0000\n",
      "for bitstring 0000010, amplitude: -0.1704+0.5073j, difference from state vector: 0.0000\n",
      "for bitstring 0000011, amplitude: 0.0000+0.0000j, difference from state vector: 0.0000\n"
     ]
    }
   ],
   "source": [
    "fixed_states = '00000'\n",
    "fixed_index = tuple(map(int, fixed_states))\n",
    "num_fixed = len(fixed_states)\n",
    "\n",
    "# mapping of the first 5 qubits to the fixed state\n",
    "fixed = dict(zip(myconverter.qubits[:num_fixed], fixed_states))\n",
    "\n",
    "expression, operands = myconverter.batched_amplitudes(fixed)\n",
    "batched_amplitudes = contract(expression, *operands)\n",
    "\n",
    "for ibit, jbit in itertools.product(range(2), repeat=2):\n",
    "    bitstring = fixed_states + str(ibit) + str(jbit)\n",
    "    index = fixed_index + (ibit, jbit)\n",
    "    amplitude = batched_amplitudes[(ibit, jbit)]\n",
    "    amplitude_from_sv = sv[index]\n",
    "    amp_diff = abs(amplitude-amplitude_from_sv)\n",
    "    print(f'for bitstring {bitstring}, amplitude: {amplitude:.4f}, difference from state vector: {amp_diff:.4f}')"
   ]
  },
  {
   "cell_type": "markdown",
   "id": "5ae16861-c6eb-4ec0-a527-c65aed4cbcd8",
   "metadata": {},
   "source": [
    "### compute expectation value $\\langle \\psi|\\hat{O}| \\psi\\rangle$\n",
    "\n",
    "In this example, we compute the expectation value for a pauli string $IXXZZII$. For comparision, we compute the same value via contracting reduced density matrix with the operator."
   ]
  },
  {
   "cell_type": "code",
   "execution_count": 7,
   "id": "079beec1-8bc2-4aec-a272-01e160e104f1",
   "metadata": {},
   "outputs": [
    {
     "name": "stdout",
     "output_type": "stream",
     "text": [
      "expectation value for IXXZZII: (0.13257764904443228+0j)\n",
      "is expectation value in agreement? True\n"
     ]
    }
   ],
   "source": [
    "pauli_string = 'IXXZZII'\n",
    "expression, operands = myconverter.expectation(pauli_string, lightcone=True)\n",
    "expec = contract(expression, *operands)\n",
    "print(f'expectation value for {pauli_string}: {expec}')\n",
    "\n",
    "# expectation value from reduced density matrix\n",
    "qubits = myconverter.qubits\n",
    "where = qubits[1:5]\n",
    "rdm_expression, rdm_operands = myconverter.reduced_density_matrix(where, lightcone=True)\n",
    "rdm = contract(rdm_expression, *rdm_operands)\n",
    "\n",
    "pauli_x = cp.asarray([[0,1],[1,0]], dtype=myconverter.dtype)\n",
    "pauli_z = cp.asarray([[1,0],[0,-1]], dtype=myconverter.dtype)\n",
    "expec_from_rdm = cp.einsum('abcdABCD,aA,bB,cC,dD->', rdm, pauli_x, pauli_x, pauli_z, pauli_z)\n",
    "\n",
    "print(f\"is expectation value in agreement?\", cp.allclose(expec, expec_from_rdm))"
   ]
  },
  {
   "cell_type": "markdown",
   "id": "24f09f1f-6507-4804-ac12-d96d8ee332da",
   "metadata": {},
   "source": [
    "### compute reduced density matrix $\\rho\\left( {\\bar{p}|b_{\\bar{f}}} \\right) = Tr_{\\bar{p}}\\langle b_{\\bar{f}}|\\psi_{\\bar{f}\\cup\\bar{p}}\\rangle \\langle \\psi_{\\bar{f}\\cup\\bar{p}}\\rangle| b_{\\bar{f}} \\rangle$\n",
    "\n",
    "In this example, we construct the reduced density matrix of qubits 0 & 1 (so the returned RDM should have $2^2\\times2^2=16$ elements), with qubits 3 & 4 fixed at state 0"
   ]
  },
  {
   "cell_type": "code",
   "execution_count": 8,
   "id": "af4a503c-2f3e-4093-89ef-06457f68de9c",
   "metadata": {},
   "outputs": [
    {
     "name": "stdout",
     "output_type": "stream",
     "text": [
      "shape of reduced density matrix: (2, 2, 2, 2)\n",
      "is rdm in agreement? True\n"
     ]
    }
   ],
   "source": [
    "where = circuit.qubits[:2]\n",
    "fixed = {circuit.qubits[3]: '0',\n",
    "         circuit.qubits[4]: '0'}\n",
    "\n",
    "# we set lightcone=True to reduce the size of the tensor network\n",
    "expression, operands = myconverter.reduced_density_matrix(where, fixed=fixed, lightcone=True)\n",
    "rdm = contract(expression, *operands)\n",
    "print(f'shape of reduced density matrix: {rdm.shape}')\n",
    "\n",
    "# check if the computed RDM is correct\n",
    "rdm_from_sv = contract('abefg, ABefg->abAB', sv[:, :, :, 0, 0], sv[:, :, :, 0, 0].conj())\n",
    "print(f\"is rdm in agreement?\", cp.allclose(rdm, rdm_from_sv))"
   ]
  }
 ],
 "metadata": {
  "kernelspec": {
   "display_name": "Python 3 (ipykernel)",
   "language": "python",
   "name": "python3"
  },
  "language_info": {
   "codemirror_mode": {
    "name": "ipython",
    "version": 3
   },
   "file_extension": ".py",
   "mimetype": "text/x-python",
   "name": "python",
   "nbconvert_exporter": "python",
   "pygments_lexer": "ipython3",
   "version": "3.9.15"
  }
 },
 "nbformat": 4,
 "nbformat_minor": 5
}
